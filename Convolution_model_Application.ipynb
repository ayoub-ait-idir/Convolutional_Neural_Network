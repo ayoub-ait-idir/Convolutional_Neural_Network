{
  "nbformat": 4,
  "nbformat_minor": 0,
  "metadata": {
    "coursera": {
      "course_slug": "convolutional-neural-networks",
      "graded_item_id": "bwbJV",
      "launcher_item_id": "0TkXB"
    },
    "kernelspec": {
      "display_name": "Python 3",
      "language": "python",
      "name": "python3"
    },
    "language_info": {
      "codemirror_mode": {
        "name": "ipython",
        "version": 3
      },
      "file_extension": ".py",
      "mimetype": "text/x-python",
      "name": "python",
      "nbconvert_exporter": "python",
      "pygments_lexer": "ipython3",
      "version": "3.7.6"
    },
    "colab": {
      "name": "Convolution_model_Application.ipynb",
      "provenance": [],
      "collapsed_sections": [],
      "include_colab_link": true
    }
  },
  "cells": [
    {
      "cell_type": "markdown",
      "metadata": {
        "id": "view-in-github",
        "colab_type": "text"
      },
      "source": [
        "<a href=\"https://colab.research.google.com/github/ayoub-ait-idir/Convolutional_Neural_Network/blob/main/Convolution_model_Application.ipynb\" target=\"_parent\"><img src=\"https://colab.research.google.com/assets/colab-badge.svg\" alt=\"Open In Colab\"/></a>"
      ]
    },
    {
      "cell_type": "markdown",
      "metadata": {
        "id": "MOOTbnHbsDkk"
      },
      "source": [
        "# Convolutional Neural Networks: Application\n",
        "\n",
        "**In this assignment you will be able to:**\n",
        "\n",
        "- Build and train a ConvNet in TensorFlow for a __binary__ classification problem\n",
        "- Build and train a ConvNet in TensorFlow for a __multiclass__ classification problem\n",
        "- Explain different use cases for the Sequential and Functional APIs\n",
        "\n",
        "To complete this assignment, you should already be familiar with TensorFlow. If you are not, please refer back to the **TensorFlow Tutorial** of the third week of Course 2 (\"**Improving deep neural networks**\")."
      ]
    },
    {
      "cell_type": "markdown",
      "metadata": {
        "id": "t2QnUKiXsDkn"
      },
      "source": [
        "## Table of Contents\n",
        "\n",
        "- [1 - Packages](#1)\n",
        "    - [1.1 - Load the Data and Split the Data into Train/Test Sets](#1-1)\n",
        "- [2 - Layers in TF Keras](#2)\n",
        "- [3 - The Sequential API](#3)\n",
        "    - [3.1 - Create the Sequential Model](#3-1)\n",
        "        - [Exercise 1 - happyModel](#ex-1)\n",
        "    - [3.2 - Train and Evaluate the Model](#3-2)\n",
        "- [4 - The Functional API](#4)\n",
        "    - [4.1 - Load the SIGNS Dataset](#4-1)\n",
        "    - [4.2 - Split the Data into Train/Test Sets](#4-2)\n",
        "    - [4.3 - Forward Propagation](#4-3)\n",
        "        - [Exercise 2 - convolutional_model](#ex-2)\n",
        "    - [4.4 - Train the Model](#4-4)\n",
        "- [5 - History Object](#5)\n",
        "- [6 - Bibliography](#6)"
      ]
    },
    {
      "cell_type": "markdown",
      "metadata": {
        "id": "XV_QD6U2sDkp"
      },
      "source": [
        "<a name='1'></a>\n",
        "## 1 - Packages\n",
        "\n",
        "As usual, begin by loading in the packages."
      ]
    },
    {
      "cell_type": "code",
      "metadata": {
        "id": "ygPkSiM1sDkp"
      },
      "source": [
        "import math\n",
        "import numpy as np\n",
        "import h5py\n",
        "import matplotlib.pyplot as plt\n",
        "from matplotlib.pyplot import imread\n",
        "import scipy\n",
        "from PIL import Image\n",
        "import pandas as pd\n",
        "import tensorflow as tf\n",
        "import tensorflow.keras.layers as tfl\n",
        "from tensorflow.python.framework import ops\n",
        "from cnn_utils import *\n",
        "from test_utils import summary, comparator\n",
        "\n",
        "%matplotlib inline\n",
        "np.random.seed(1)"
      ],
      "execution_count": null,
      "outputs": []
    },
    {
      "cell_type": "markdown",
      "metadata": {
        "id": "Ve--Z_2csDkr"
      },
      "source": [
        "<a name='1-1'></a>\n",
        "### 1.1 - Load the Data and Split the Data into Train/Test Sets\n",
        "\n",
        "You'll be using the Happy House dataset for this part of the assignment, which contains images of peoples' faces. Your task will be to build a ConvNet that determines whether the people in the images are smiling or not -- because they only get to enter the house if they're smiling!  "
      ]
    },
    {
      "cell_type": "code",
      "metadata": {
        "id": "JPnt_jr2sDks",
        "outputId": "8c8fb231-9444-469d-8a3b-e5d42c404bf2"
      },
      "source": [
        "X_train_orig, Y_train_orig, X_test_orig, Y_test_orig, classes = load_happy_dataset()\n",
        "\n",
        "# Normalize image vectors\n",
        "X_train = X_train_orig/255.\n",
        "X_test = X_test_orig/255.\n",
        "\n",
        "# Reshape\n",
        "Y_train = Y_train_orig.T\n",
        "Y_test = Y_test_orig.T\n",
        "\n",
        "print (\"number of training examples = \" + str(X_train.shape[0]))\n",
        "print (\"number of test examples = \" + str(X_test.shape[0]))\n",
        "print (\"X_train shape: \" + str(X_train.shape))\n",
        "print (\"Y_train shape: \" + str(Y_train.shape))\n",
        "print (\"X_test shape: \" + str(X_test.shape))\n",
        "print (\"Y_test shape: \" + str(Y_test.shape))"
      ],
      "execution_count": null,
      "outputs": [
        {
          "output_type": "stream",
          "text": [
            "number of training examples = 600\n",
            "number of test examples = 150\n",
            "X_train shape: (600, 64, 64, 3)\n",
            "Y_train shape: (600, 1)\n",
            "X_test shape: (150, 64, 64, 3)\n",
            "Y_test shape: (150, 1)\n"
          ],
          "name": "stdout"
        }
      ]
    },
    {
      "cell_type": "markdown",
      "metadata": {
        "id": "kfswPGL3sDkt"
      },
      "source": [
        "You can display the images contained in the dataset. Images are **64x64** pixels in RGB format (3 channels)."
      ]
    },
    {
      "cell_type": "code",
      "metadata": {
        "id": "ABTTVQhdsDku",
        "outputId": "70aae9c1-9127-4be3-c89f-ce82f94eaf91"
      },
      "source": [
        "index = 124\n",
        "plt.imshow(X_train_orig[index]) #display sample training image\n",
        "plt.show()"
      ],
      "execution_count": null,
      "outputs": [
        {
          "output_type": "display_data",
          "data": {
            "image/png": "[encoded data removed]",
            "text/plain": [
              "<Figure size 432x288 with 1 Axes>"
            ]
          },
          "metadata": {
            "tags": [],
            "needs_background": "light"
          }
        }
      ]
    },
    {
      "cell_type": "markdown",
      "metadata": {
        "id": "n4rEsPkRsDkv"
      },
      "source": [
        "<a name='2'></a>\n",
        "## 2 - Layers in TF Keras \n",
        "\n",
        "In the previous assignment, you created layers manually in numpy. In TF Keras, you don't have to write code directly to create layers. Rather, TF Keras has pre-defined layers you can use. \n",
        "\n",
        "When you create a layer in TF Keras, you are creating a function that takes some input and transforms it into an output you can reuse later. Nice and easy! "
      ]
    },
    {
      "cell_type": "markdown",
      "metadata": {
        "id": "yBStknVDsDkv"
      },
      "source": [
        "<a name='3'></a>\n",
        "## 3 - The Sequential API\n",
        "\n",
        "In the previous assignment, you built helper functions using `numpy` to understand the mechanics behind convolutional neural networks. Most practical applications of deep learning today are built using programming frameworks, which have many built-in functions you can simply call. Keras is a high-level abstraction built on top of TensorFlow, which allows for even more simplified and optimized model creation and training. \n",
        "\n",
        "For the first part of this assignment, you'll create a model using TF Keras' Sequential API, which allows you to build layer by layer, and is ideal for building models where each layer has **exactly one** input tensor and **one** output tensor. \n",
        "\n",
        "As you'll see, using the Sequential API is simple and straightforward, but is only appropriate for simpler, more straightforward tasks. Later in this notebook you'll spend some time building with a more flexible, powerful alternative: the Functional API. \n",
        " "
      ]
    },
    {
      "cell_type": "markdown",
      "metadata": {
        "id": "kOn5vi8psDkx"
      },
      "source": [
        "<a name='3-1'></a>\n",
        "### 3.1 - Create the Sequential Model\n",
        "\n",
        "As mentioned earlier, the TensorFlow Keras Sequential API can be used to build simple models with layer operations that proceed in a sequential order. \n",
        "\n",
        "You can also add layers incrementally to a Sequential model with the `.add()` method, or remove them using the `.pop()` method, much like you would in a regular Python list.\n",
        "\n",
        "Actually, you can think of a Sequential model as behaving like a list of layers. Like Python lists, Sequential layers are ordered, and the order in which they are specified matters.  If your model is non-linear or contains layers with multiple inputs or outputs, a Sequential model wouldn't be the right choice!\n",
        "\n",
        "For any layer construction in Keras, you'll need to specify the input shape in advance. This is because in Keras, the shape of the weights is based on the shape of the inputs. The weights are only created when the model first sees some input data. Sequential models can be created by passing a list of layers to the Sequential constructor, like you will do in the next assignment.\n",
        "\n",
        "<a name='ex-1'></a>\n",
        "### Exercise 1 - happyModel\n",
        "\n",
        "Implement the `happyModel` function below to build the following model: `ZEROPAD2D -> CONV2D -> BATCHNORM -> RELU -> MAXPOOL -> FLATTEN -> DENSE`. Take help from [tf.keras.layers](https://www.tensorflow.org/api_docs/python/tf/keras/layers) \n",
        "\n",
        "Also, plug in the following parameters for all the steps:\n",
        "\n",
        " - [ZeroPadding2D](https://www.tensorflow.org/api_docs/python/tf/keras/layers/ZeroPadding2D): padding 3, input shape 64 x 64 x 3\n",
        " - [Conv2D](https://www.tensorflow.org/api_docs/python/tf/keras/layers/Conv2D): Use 32 7x7 filters, stride 1\n",
        " - [BatchNormalization](https://www.tensorflow.org/api_docs/python/tf/keras/layers/BatchNormalization): for axis 3\n",
        " - [ReLU](https://www.tensorflow.org/api_docs/python/tf/keras/layers/ReLU)\n",
        " - [MaxPool2D](https://www.tensorflow.org/api_docs/python/tf/keras/layers/MaxPool2D): Using default parameters\n",
        " - [Flatten](https://www.tensorflow.org/api_docs/python/tf/keras/layers/Flatten) the previous output.\n",
        " - Fully-connected ([Dense](https://www.tensorflow.org/api_docs/python/tf/keras/layers/Dense)) layer: Apply a fully connected layer with 1 neuron and a sigmoid activation. \n",
        " \n",
        " \n",
        " **Hint:**\n",
        " \n",
        " Use **tfl** as shorthand for **tensorflow.keras.layers**"
      ]
    },
    {
      "cell_type": "code",
      "metadata": {
        "deletable": false,
        "nbgrader": {
          "cell_type": "code",
          "checksum": "95d28b191f257bdd5b70c7b8952559d5",
          "grade": false,
          "grade_id": "cell-0e56d3fc28b69aec",
          "locked": false,
          "schema_version": 3,
          "solution": true,
          "task": false
        },
        "id": "AXJddI53sDkz"
      },
      "source": [
        "# GRADED FUNCTION: happyModel\n",
        "\n",
        "def happyModel():\n",
        "    \"\"\"\n",
        "    Implements the forward propagation for the binary classification model:\n",
        "    ZEROPAD2D -> CONV2D -> BATCHNORM -> RELU -> MAXPOOL -> FLATTEN -> DENSE\n",
        "    \n",
        "    Note that for simplicity and grading purposes, you'll hard-code all the values\n",
        "    such as the stride and kernel (filter) sizes. \n",
        "    Normally, functions should take these values as function parameters.\n",
        "    \n",
        "    Arguments:\n",
        "    None\n",
        "\n",
        "    Returns:\n",
        "    model -- TF Keras model (object containing the information for the entire training process) \n",
        "    \"\"\"\n",
        "    model = tf.keras.Sequential(\n",
        "        [\n",
        "            ## ZeroPadding2D with padding 3, input shape of 64 x 64 x 3\n",
        "            tfl.ZeroPadding2D(padding=3, input_shape=(64,64,3)),\n",
        "            ## Conv2D with 32 7x7 filters and stride of 1\n",
        "            tfl.Conv2D(32, 7, strides=1),\n",
        "            ## BatchNormalization for axis 3\n",
        "            tfl.BatchNormalization(axis=3),\n",
        "            ## ReLU\n",
        "            tfl.ReLU(),\n",
        "            ## Max Pooling 2D with default parameters\n",
        "            tfl.MaxPool2D(),\n",
        "            ## Flatten layer\n",
        "            tfl.Flatten(),\n",
        "            ## Dense layer with 1 unit for output & 'sigmoid' activation\n",
        "            tfl.Dense(1, activation='sigmoid')\n",
        "        ]\n",
        "    )\n",
        "    \n",
        "    return model"
      ],
      "execution_count": null,
      "outputs": []
    },
    {
      "cell_type": "code",
      "metadata": {
        "deletable": false,
        "editable": false,
        "nbgrader": {
          "cell_type": "code",
          "checksum": "8d3575c950e2e78149be2d05d671c80d",
          "grade": true,
          "grade_id": "cell-e3e1046e5c33d775",
          "locked": true,
          "points": 10,
          "schema_version": 3,
          "solution": false,
          "task": false
        },
        "id": "i5fXw9nSsDk1",
        "outputId": "b860b606-2c86-4f88-ed02-1f13658bc7aa"
      },
      "source": [
        "happy_model = happyModel()\n",
        "# Print a summary for each layer\n",
        "for layer in summary(happy_model):\n",
        "    print(layer)\n",
        "    \n",
        "output = [['ZeroPadding2D', (None, 70, 70, 3), 0, ((3, 3), (3, 3))],\n",
        "            ['Conv2D', (None, 64, 64, 32), 4736, 'valid', 'linear', 'GlorotUniform'],\n",
        "            ['BatchNormalization', (None, 64, 64, 32), 128],\n",
        "            ['ReLU', (None, 64, 64, 32), 0],\n",
        "            ['MaxPooling2D', (None, 32, 32, 32), 0, (2, 2), (2, 2), 'valid'],\n",
        "            ['Flatten', (None, 32768), 0],\n",
        "            ['Dense', (None, 1), 32769, 'sigmoid']]\n",
        "    \n",
        "comparator(summary(happy_model), output)"
      ],
      "execution_count": null,
      "outputs": [
        {
          "output_type": "stream",
          "text": [
            "['ZeroPadding2D', (None, 70, 70, 3), 0, ((3, 3), (3, 3))]\n",
            "['Conv2D', (None, 64, 64, 32), 4736, 'valid', 'linear', 'GlorotUniform']\n",
            "['BatchNormalization', (None, 64, 64, 32), 128]\n",
            "['ReLU', (None, 64, 64, 32), 0]\n",
            "['MaxPooling2D', (None, 32, 32, 32), 0, (2, 2), (2, 2), 'valid']\n",
            "['Flatten', (None, 32768), 0]\n",
            "['Dense', (None, 1), 32769, 'sigmoid']\n",
            "\u001b[32mAll tests passed!\u001b[0m\n"
          ],
          "name": "stdout"
        }
      ]
    },
    {
      "cell_type": "markdown",
      "metadata": {
        "id": "RELtIuV4sDk2"
      },
      "source": [
        "Now that your model is created, you can compile it for training with an optimizer and loss of your choice. When the string `accuracy` is specified as a metric, the type of accuracy used will be automatically converted based on the loss function used. This is one of the many optimizations built into TensorFlow that make your life easier! If you'd like to read more on how the compiler operates, check the docs [here](https://www.tensorflow.org/api_docs/python/tf/keras/Model#compile)."
      ]
    },
    {
      "cell_type": "code",
      "metadata": {
        "id": "eY856bUasDk3"
      },
      "source": [
        "happy_model.compile(optimizer='adam',\n",
        "                   loss='binary_crossentropy',\n",
        "                   metrics=['accuracy'])"
      ],
      "execution_count": null,
      "outputs": []
    },
    {
      "cell_type": "markdown",
      "metadata": {
        "id": "D-emG-rSsDk3"
      },
      "source": [
        "It's time to check your model's parameters with the `.summary()` method. This will display the types of layers you have, the shape of the outputs, and how many parameters are in each layer. "
      ]
    },
    {
      "cell_type": "code",
      "metadata": {
        "id": "Vz4V60yWsDk4",
        "outputId": "50f39cf1-8df5-4c48-86d0-7dbbc132c7dd"
      },
      "source": [
        "happy_model.summary()"
      ],
      "execution_count": null,
      "outputs": [
        {
          "output_type": "stream",
          "text": [
            "Model: \"sequential_2\"\n",
            "_________________________________________________________________\n",
            "Layer (type)                 Output Shape              Param #   \n",
            "=================================================================\n",
            "zero_padding2d_2 (ZeroPaddin (None, 70, 70, 3)         0         \n",
            "_________________________________________________________________\n",
            "conv2d_23 (Conv2D)           (None, 64, 64, 32)        4736      \n",
            "_________________________________________________________________\n",
            "batch_normalization_2 (Batch (None, 64, 64, 32)        128       \n",
            "_________________________________________________________________\n",
            "re_lu_23 (ReLU)              (None, 64, 64, 32)        0         \n",
            "_________________________________________________________________\n",
            "max_pooling2d_22 (MaxPooling (None, 32, 32, 32)        0         \n",
            "_________________________________________________________________\n",
            "flatten_10 (Flatten)         (None, 32768)             0         \n",
            "_________________________________________________________________\n",
            "dense_6 (Dense)              (None, 1)                 32769     \n",
            "=================================================================\n",
            "Total params: 37,633\n",
            "Trainable params: 37,569\n",
            "Non-trainable params: 64\n",
            "_________________________________________________________________\n"
          ],
          "name": "stdout"
        }
      ]
    },
    {
      "cell_type": "markdown",
      "metadata": {
        "id": "-P8v5oVhsDk5"
      },
      "source": [
        "<a name='3-2'></a>\n",
        "### 3.2 - Train and Evaluate the Model\n",
        "\n",
        "After creating the model, compiling it with your choice of optimizer and loss function, and doing a sanity check on its contents, you are now ready to build! \n",
        "\n",
        "Simply call `.fit()` to train. That's it! No need for mini-batching, saving, or complex backpropagation computations. That's all been done for you, as you're using a TensorFlow dataset with the batches specified already. You do have the option to specify epoch number or minibatch size if you like (for example, in the case of an un-batched dataset)."
      ]
    },
    {
      "cell_type": "code",
      "metadata": {
        "id": "yjTTVZsAsDk5",
        "outputId": "0dd8bbb4-bb02-453a-93ce-7201f2112977"
      },
      "source": [
        "happy_model.fit(X_train, Y_train, epochs=10, batch_size=16)"
      ],
      "execution_count": null,
      "outputs": [
        {
          "output_type": "stream",
          "text": [
            "Epoch 1/10\n",
            "38/38 [==============================] - 4s 98ms/step - loss: 1.1712 - accuracy: 0.7117\n",
            "Epoch 2/10\n",
            "38/38 [==============================] - 4s 97ms/step - loss: 0.2561 - accuracy: 0.8900\n",
            "Epoch 3/10\n",
            "38/38 [==============================] - 4s 95ms/step - loss: 0.1720 - accuracy: 0.9350\n",
            "Epoch 4/10\n",
            "38/38 [==============================] - 4s 100ms/step - loss: 0.1241 - accuracy: 0.9550\n",
            "Epoch 5/10\n",
            "38/38 [==============================] - 4s 98ms/step - loss: 0.1799 - accuracy: 0.9283\n",
            "Epoch 6/10\n",
            "38/38 [==============================] - 4s 100ms/step - loss: 0.1081 - accuracy: 0.9617\n",
            "Epoch 7/10\n",
            "38/38 [==============================] - 4s 95ms/step - loss: 0.1673 - accuracy: 0.9333\n",
            "Epoch 8/10\n",
            "38/38 [==============================] - 4s 98ms/step - loss: 0.1067 - accuracy: 0.9667\n",
            "Epoch 9/10\n",
            "38/38 [==============================] - 4s 95ms/step - loss: 0.1129 - accuracy: 0.9550\n",
            "Epoch 10/10\n",
            "38/38 [==============================] - 4s 97ms/step - loss: 0.2003 - accuracy: 0.9283\n"
          ],
          "name": "stdout"
        },
        {
          "output_type": "execute_result",
          "data": {
            "text/plain": [
              "<tensorflow.python.keras.callbacks.History at 0x7f70f66e5b50>"
            ]
          },
          "metadata": {
            "tags": []
          },
          "execution_count": 57
        }
      ]
    },
    {
      "cell_type": "markdown",
      "metadata": {
        "id": "_ScJZf4dsDk6"
      },
      "source": [
        "After that completes, just use `.evaluate()` to evaluate against your test set. This function will print the value of the loss function and the performance metrics specified during the compilation of the model. In this case, the `binary_crossentropy` and the `accuracy` respectively."
      ]
    },
    {
      "cell_type": "code",
      "metadata": {
        "id": "NG_h82b4sDk6",
        "outputId": "cc93381b-89f9-4b71-90f0-40a8e0746910"
      },
      "source": [
        "happy_model.evaluate(X_test, Y_test)"
      ],
      "execution_count": null,
      "outputs": [
        {
          "output_type": "stream",
          "text": [
            "5/5 [==============================] - 0s 31ms/step - loss: 0.1082 - accuracy: 0.9667\n"
          ],
          "name": "stdout"
        },
        {
          "output_type": "execute_result",
          "data": {
            "text/plain": [
              "[0.10815490782260895, 0.9666666388511658]"
            ]
          },
          "metadata": {
            "tags": []
          },
          "execution_count": 58
        }
      ]
    },
    {
      "cell_type": "markdown",
      "metadata": {
        "id": "CJC6yIm0sDk7"
      },
      "source": [
        "Easy, right? But what if you need to build a model with shared layers, branches, or multiple inputs and outputs? This is where Sequential, with its beautifully simple yet limited functionality, won't be able to help you. \n",
        "\n",
        "Next up: Enter the Functional API, your slightly more complex, highly flexible friend.  "
      ]
    },
    {
      "cell_type": "markdown",
      "metadata": {
        "id": "TPTOH-fSsDk7"
      },
      "source": [
        "<a name='4'></a>\n",
        "## 4 - The Functional API"
      ]
    },
    {
      "cell_type": "markdown",
      "metadata": {
        "id": "RVGZ_RpYsDk8"
      },
      "source": [
        "Welcome to the second half of the assignment, where you'll use Keras' flexible [Functional API](https://www.tensorflow.org/guide/keras/functional) to build a ConvNet that can differentiate between 6 sign language digits. \n",
        "\n",
        "The Functional API can handle models with non-linear topology, shared layers, as well as layers with multiple inputs or outputs. Imagine that, where the Sequential API requires the model to move in a linear fashion through its layers, the Functional API allows much more flexibility. Where Sequential is a straight line, a Functional model is a graph, where the nodes of the layers can connect in many more ways than one. \n",
        "\n",
        "In the visual example below, the one possible direction of the movement Sequential model is shown in contrast to a skip connection, which is just one of the many ways a Functional model can be constructed. A skip connection, as you might have guessed, skips some layer in the network and feeds the output to a later layer in the network. Don't worry, you'll be spending more time with skip connections very soon! "
      ]
    },
    {
      "cell_type": "markdown",
      "metadata": {
        "id": "Mkd6LKMlsDk8"
      },
      "source": [
        "<img src=\"images/seq_vs_func.png\" style=\"width:350px;height:200px;\">"
      ]
    },
    {
      "cell_type": "markdown",
      "metadata": {
        "id": "VJCpteJ-sDk8"
      },
      "source": [
        "<a name='4-1'></a>\n",
        "### 4.1 - Load the SIGNS Dataset\n",
        "\n",
        "As a reminder, the SIGNS dataset is a collection of 6 signs representing numbers from 0 to 5."
      ]
    },
    {
      "cell_type": "code",
      "metadata": {
        "id": "iyoKDCY_sDk9"
      },
      "source": [
        "# Loading the data (signs)\n",
        "X_train_orig, Y_train_orig, X_test_orig, Y_test_orig, classes = load_signs_dataset()"
      ],
      "execution_count": null,
      "outputs": []
    },
    {
      "cell_type": "markdown",
      "metadata": {
        "id": "kkH1DNkcsDk9"
      },
      "source": [
        "<img src=\"images/SIGNS.png\" style=\"width:800px;height:300px;\">\n",
        "\n",
        "The next cell will show you an example of a labelled image in the dataset. Feel free to change the value of `index` below and re-run to see different examples. "
      ]
    },
    {
      "cell_type": "code",
      "metadata": {
        "id": "3dy0xoGPsDk-",
        "outputId": "ebde95b1-e276-4ec5-93a0-37a436865212"
      },
      "source": [
        "# Example of an image from the dataset\n",
        "index = 3\n",
        "plt.imshow(X_train_orig[index])\n",
        "print (\"y = \" + str(np.squeeze(Y_train_orig[:, index])))"
      ],
      "execution_count": null,
      "outputs": [
        {
          "output_type": "stream",
          "text": [
            "y = 5\n"
          ],
          "name": "stdout"
        },
        {
          "output_type": "display_data",
          "data": {
            "image/png": "[encoded data removed]",
            "text/plain": [
              "<Figure size 432x288 with 1 Axes>"
            ]
          },
          "metadata": {
            "tags": [],
            "needs_background": "light"
          }
        }
      ]
    },
    {
      "cell_type": "markdown",
      "metadata": {
        "id": "q1UzkODdsDk-"
      },
      "source": [
        "<a name='4-2'></a>\n",
        "### 4.2 - Split the Data into Train/Test Sets\n",
        "\n",
        "In Course 2, you built a fully-connected network for this dataset. But since this is an image dataset, it is more natural to apply a ConvNet to it.\n",
        "\n",
        "To get started, let's examine the shapes of your data. "
      ]
    },
    {
      "cell_type": "code",
      "metadata": {
        "id": "6nRb7IjUsDk-",
        "outputId": "acaecb45-f9c4-4fa3-83b1-6143a1f217a7"
      },
      "source": [
        "X_train = X_train_orig/255.\n",
        "X_test = X_test_orig/255.\n",
        "Y_train = convert_to_one_hot(Y_train_orig, 6).T\n",
        "Y_test = convert_to_one_hot(Y_test_orig, 6).T\n",
        "print (\"number of training examples = \" + str(X_train.shape[0]))\n",
        "print (\"number of test examples = \" + str(X_test.shape[0]))\n",
        "print (\"X_train shape: \" + str(X_train.shape))\n",
        "print (\"Y_train shape: \" + str(Y_train.shape))\n",
        "print (\"X_test shape: \" + str(X_test.shape))\n",
        "print (\"Y_test shape: \" + str(Y_test.shape))"
      ],
      "execution_count": null,
      "outputs": [
        {
          "output_type": "stream",
          "text": [
            "number of training examples = 1080\n",
            "number of test examples = 120\n",
            "X_train shape: (1080, 64, 64, 3)\n",
            "Y_train shape: (1080, 6)\n",
            "X_test shape: (120, 64, 64, 3)\n",
            "Y_test shape: (120, 6)\n"
          ],
          "name": "stdout"
        }
      ]
    },
    {
      "cell_type": "markdown",
      "metadata": {
        "id": "P0fE2quysDk_"
      },
      "source": [
        "<a name='4-3'></a>\n",
        "### 4.3 - Forward Propagation\n",
        "\n",
        "In TensorFlow, there are built-in functions that implement the convolution steps for you. By now, you should be familiar with how TensorFlow builds computational graphs. In the [Functional API](https://www.tensorflow.org/guide/keras/functional), you create a graph of layers. This is what allows such great flexibility.\n",
        "\n",
        "However, the following model could also be defined using the Sequential API since the information flow is on a single line. But don't deviate. What we want you to learn is to use the functional API.\n",
        "\n",
        "Begin building your graph of layers by creating an input node that functions as a callable object:\n",
        "\n",
        "- **input_img = tf.keras.Input(shape=input_shape):** \n",
        "\n",
        "Then, create a new node in the graph of layers by calling a layer on the `input_img` object: \n",
        "\n",
        "- **tf.keras.layers.Conv2D(filters= ... , kernel_size= ... , padding='same')(input_img):** Read the full documentation on [Conv2D](https://www.tensorflow.org/api_docs/python/tf/keras/layers/Conv2D).\n",
        "\n",
        "- **tf.keras.layers.MaxPool2D(pool_size=(f, f), strides=(s, s), padding='same'):** `MaxPool2D()` downsamples your input using a window of size (f, f) and strides of size (s, s) to carry out max pooling over each window.  For max pooling, you usually operate on a single example at a time and a single channel at a time. Read the full documentation on [MaxPool2D](https://www.tensorflow.org/api_docs/python/tf/keras/layers/MaxPool2D).\n",
        "\n",
        "- **tf.keras.layers.ReLU():** computes the elementwise ReLU of Z (which can be any shape). You can read the full documentation on [ReLU](https://www.tensorflow.org/api_docs/python/tf/keras/layers/ReLU).\n",
        "\n",
        "- **tf.keras.layers.Flatten()**: given a tensor \"P\", this function takes each training (or test) example in the batch and flattens it into a 1D vector.  \n",
        "\n",
        "    * If a tensor P has the shape (batch_size,h,w,c), it returns a flattened tensor with shape (batch_size, k), where $k=h \\times w \\times c$.  \"k\" equals the product of all the dimension sizes other than the first dimension.\n",
        "    \n",
        "    * For example, given a tensor with dimensions [100, 2, 3, 4], it flattens the tensor to be of shape [100, 24], where 24 = 2 * 3 * 4.  You can read the full documentation on [Flatten](https://www.tensorflow.org/api_docs/python/tf/keras/layers/Flatten).\n",
        "\n",
        "- **tf.keras.layers.Dense(units= ... , activation='softmax')(F):** given the flattened input F, it returns the output computed using a fully connected layer. You can read the full documentation on [Dense](https://www.tensorflow.org/api_docs/python/tf/keras/layers/Dense).\n",
        "\n",
        "In the last function above (`tf.keras.layers.Dense()`), the fully connected layer automatically initializes weights in the graph and keeps on training them as you train the model. Hence, you did not need to initialize those weights when initializing the parameters.\n",
        "\n",
        "Lastly, before creating the model, you'll need to define the output using the last of the function's compositions (in this example, a Dense layer): \n",
        "\n",
        "- **outputs = tf.keras.layers.Dense(units=6, activation='softmax')(F)**\n",
        "\n",
        "\n",
        "#### Window, kernel, filter, pool\n",
        "\n",
        "The words \"kernel\" and \"filter\" are used to refer to the same thing. The word \"filter\" accounts for the amount of \"kernels\" that will be used in a single convolution layer. \"Pool\" is the name of the operation that takes the max or average value of the kernels. \n",
        "\n",
        "This is why the parameter `pool_size` refers to `kernel_size`, and you use `(f,f)` to refer to the filter size. \n",
        "\n",
        "Pool size and kernel size refer to the same thing in different objects - They refer to the shape of the window where the operation takes place. "
      ]
    },
    {
      "cell_type": "markdown",
      "metadata": {
        "id": "dO3c4wAesDlA"
      },
      "source": [
        "<a name='ex-2'></a>\n",
        "### Exercise 2 - convolutional_model\n",
        "\n",
        "Implement the `convolutional_model` function below to build the following model: `CONV2D -> RELU -> MAXPOOL -> CONV2D -> RELU -> MAXPOOL -> FLATTEN -> DENSE`. Use the functions above! \n",
        "\n",
        "Also, plug in the following parameters for all the steps:\n",
        "\n",
        " - [Conv2D](https://www.tensorflow.org/api_docs/python/tf/keras/layers/Conv2D): Use 8 4 by 4 filters, stride 1, padding is \"SAME\"\n",
        " - [ReLU](https://www.tensorflow.org/api_docs/python/tf/keras/layers/ReLU)\n",
        " - [MaxPool2D](https://www.tensorflow.org/api_docs/python/tf/keras/layers/MaxPool2D): Use an 8 by 8 filter size and an 8 by 8 stride, padding is \"SAME\"\n",
        " - **Conv2D**: Use 16 2 by 2 filters, stride 1, padding is \"SAME\"\n",
        " - **ReLU**\n",
        " - **MaxPool2D**: Use a 4 by 4 filter size and a 4 by 4 stride, padding is \"SAME\"\n",
        " - [Flatten](https://www.tensorflow.org/api_docs/python/tf/keras/layers/Flatten) the previous output.\n",
        " - Fully-connected ([Dense](https://www.tensorflow.org/api_docs/python/tf/keras/layers/Dense)) layer: Apply a fully connected layer with 6 neurons and a softmax activation. "
      ]
    },
    {
      "cell_type": "code",
      "metadata": {
        "deletable": false,
        "nbgrader": {
          "cell_type": "code",
          "checksum": "f58643806aa8380c96225fc8b4c5e7aa",
          "grade": false,
          "grade_id": "cell-dac51744a9e03f51",
          "locked": false,
          "schema_version": 3,
          "solution": true,
          "task": false
        },
        "id": "MfjQV8L-sDlA"
      },
      "source": [
        "# GRADED FUNCTION: convolutional_model\n",
        "\n",
        "def convolutional_model(input_shape):\n",
        "    \"\"\"\n",
        "    Implements the forward propagation for the model:\n",
        "    CONV2D -> RELU -> MAXPOOL -> CONV2D -> RELU -> MAXPOOL -> FLATTEN -> DENSE\n",
        "    \n",
        "    Note that for simplicity and grading purposes, you'll hard-code some values\n",
        "    such as the stride and kernel (filter) sizes. \n",
        "    Normally, functions should take these values as function parameters.\n",
        "    \n",
        "    Arguments:\n",
        "    input_img -- input dataset, of shape (input_shape)\n",
        "\n",
        "    Returns:\n",
        "    model -- TF Keras model (object containing the information for the entire training process) \n",
        "    \"\"\"\n",
        "\n",
        "    input_img = tf.keras.Input(shape=input_shape)\n",
        "    ## CONV2D: 8 filters 4x4, stride of 1, padding 'SAME'\n",
        "    Z1 = tfl.Conv2D(filters=8 ,kernel_size=4, strides=1 , padding='same')(input_img)\n",
        "    ## RELU\n",
        "    A1 = tfl.ReLU()(Z1)\n",
        "    ## MAXPOOL: window 8x8, stride 8, padding 'SAME'\n",
        "    P1 = tfl.MaxPool2D(pool_size=8, strides=8, padding='same')(A1)\n",
        "    ## CONV2D: 16 filters 2x2, stride 1, padding 'SAME'\n",
        "    Z2 = tfl.Conv2D(filters=16, kernel_size=2, strides=1, padding='same')(P1)\n",
        "    ## RELU\n",
        "    A2 = tfl.ReLU()(Z2)\n",
        "    ## MAXPOOL: window 4x4, stride 4, padding 'SAME'\n",
        "    P2 = tfl.MaxPool2D(pool_size=4, strides=4, padding='same')(A2)\n",
        "    ## FLATTEN\n",
        "    F = tfl.Flatten()(P2)\n",
        "    ## Dense layer\n",
        "    ## 6 neurons in output layer. Hint: one of the arguments should be \"activation='softmax'\" \n",
        "    outputs = tfl.Dense(units=6, activation='softmax')(F)\n",
        "    \n",
        "    model = tf.keras.Model(inputs=input_img, outputs=outputs)\n",
        "    return model"
      ],
      "execution_count": null,
      "outputs": []
    },
    {
      "cell_type": "code",
      "metadata": {
        "deletable": false,
        "editable": false,
        "nbgrader": {
          "cell_type": "code",
          "checksum": "483d626949930a0b0ef20997e7c6ba72",
          "grade": true,
          "grade_id": "cell-45d22e92042174c9",
          "locked": true,
          "points": 10,
          "schema_version": 3,
          "solution": false,
          "task": false
        },
        "id": "Ti6qO4lvsDlB",
        "outputId": "0ea72813-7430-44ff-c802-626912045894"
      },
      "source": [
        "conv_model = convolutional_model((64, 64, 3))\n",
        "conv_model.compile(optimizer='adam',\n",
        "                  loss='categorical_crossentropy',\n",
        "                  metrics=['accuracy'])\n",
        "conv_model.summary()\n",
        "    \n",
        "output = [['InputLayer', [(None, 64, 64, 3)], 0],\n",
        "        ['Conv2D', (None, 64, 64, 8), 392, 'same', 'linear', 'GlorotUniform'],\n",
        "        ['ReLU', (None, 64, 64, 8), 0],\n",
        "        ['MaxPooling2D', (None, 8, 8, 8), 0, (8, 8), (8, 8), 'same'],\n",
        "        ['Conv2D', (None, 8, 8, 16), 528, 'same', 'linear', 'GlorotUniform'],\n",
        "        ['ReLU', (None, 8, 8, 16), 0],\n",
        "        ['MaxPooling2D', (None, 2, 2, 16), 0, (4, 4), (4, 4), 'same'],\n",
        "        ['Flatten', (None, 64), 0],\n",
        "        ['Dense', (None, 6), 390, 'softmax']]\n",
        "    \n",
        "comparator(summary(conv_model), output)"
      ],
      "execution_count": null,
      "outputs": [
        {
          "output_type": "stream",
          "text": [
            "Model: \"functional_1\"\n",
            "_________________________________________________________________\n",
            "Layer (type)                 Output Shape              Param #   \n",
            "=================================================================\n",
            "input_26 (InputLayer)        [(None, 64, 64, 3)]       0         \n",
            "_________________________________________________________________\n",
            "conv2d_50 (Conv2D)           (None, 64, 64, 8)         392       \n",
            "_________________________________________________________________\n",
            "re_lu_46 (ReLU)              (None, 64, 64, 8)         0         \n",
            "_________________________________________________________________\n",
            "max_pooling2d_41 (MaxPooling (None, 8, 8, 8)           0         \n",
            "_________________________________________________________________\n",
            "conv2d_51 (Conv2D)           (None, 8, 8, 16)          528       \n",
            "_________________________________________________________________\n",
            "re_lu_47 (ReLU)              (None, 8, 8, 16)          0         \n",
            "_________________________________________________________________\n",
            "max_pooling2d_42 (MaxPooling (None, 2, 2, 16)          0         \n",
            "_________________________________________________________________\n",
            "flatten_16 (Flatten)         (None, 64)                0         \n",
            "_________________________________________________________________\n",
            "dense_10 (Dense)             (None, 6)                 390       \n",
            "=================================================================\n",
            "Total params: 1,310\n",
            "Trainable params: 1,310\n",
            "Non-trainable params: 0\n",
            "_________________________________________________________________\n",
            "\u001b[32mAll tests passed!\u001b[0m\n"
          ],
          "name": "stdout"
        }
      ]
    },
    {
      "cell_type": "markdown",
      "metadata": {
        "id": "905YzwRusDlB"
      },
      "source": [
        "Both the Sequential and Functional APIs return a TF Keras model object. The only difference is how inputs are handled inside the object model! "
      ]
    },
    {
      "cell_type": "markdown",
      "metadata": {
        "id": "u7Pkn4OcsDlC"
      },
      "source": [
        "<a name='4-4'></a>\n",
        "### 4.4 - Train the Model"
      ]
    },
    {
      "cell_type": "code",
      "metadata": {
        "id": "XIFY0jEksDlC",
        "outputId": "e1a550f1-10a0-40a7-80a1-c469737e012f"
      },
      "source": [
        "train_dataset = tf.data.Dataset.from_tensor_slices((X_train, Y_train)).batch(64)\n",
        "test_dataset = tf.data.Dataset.from_tensor_slices((X_test, Y_test)).batch(64)\n",
        "history = conv_model.fit(train_dataset, epochs=100, validation_data=test_dataset)"
      ],
      "execution_count": null,
      "outputs": [
        {
          "output_type": "stream",
          "text": [
            "Epoch 1/100\n",
            "17/17 [==============================] - 2s 108ms/step - loss: 1.8036 - accuracy: 0.1583 - val_loss: 1.7905 - val_accuracy: 0.1833\n",
            "Epoch 2/100\n",
            "17/17 [==============================] - 2s 106ms/step - loss: 1.7893 - accuracy: 0.1704 - val_loss: 1.7843 - val_accuracy: 0.1667\n",
            "Epoch 3/100\n",
            "17/17 [==============================] - 2s 106ms/step - loss: 1.7852 - accuracy: 0.1843 - val_loss: 1.7805 - val_accuracy: 0.2250\n",
            "Epoch 4/100\n",
            "17/17 [==============================] - 2s 107ms/step - loss: 1.7810 - accuracy: 0.2093 - val_loss: 1.7764 - val_accuracy: 0.2250\n",
            "Epoch 5/100\n",
            "17/17 [==============================] - 2s 106ms/step - loss: 1.7766 - accuracy: 0.1954 - val_loss: 1.7715 - val_accuracy: 0.2333\n",
            "Epoch 6/100\n",
            "17/17 [==============================] - 2s 106ms/step - loss: 1.7708 - accuracy: 0.2296 - val_loss: 1.7647 - val_accuracy: 0.2833\n",
            "Epoch 7/100\n",
            "17/17 [==============================] - 2s 111ms/step - loss: 1.7630 - accuracy: 0.2565 - val_loss: 1.7542 - val_accuracy: 0.3500\n",
            "Epoch 8/100\n",
            "17/17 [==============================] - 2s 107ms/step - loss: 1.7516 - accuracy: 0.3093 - val_loss: 1.7415 - val_accuracy: 0.3583\n",
            "Epoch 9/100\n",
            "17/17 [==============================] - 2s 106ms/step - loss: 1.7355 - accuracy: 0.3259 - val_loss: 1.7253 - val_accuracy: 0.4083\n",
            "Epoch 10/100\n",
            "17/17 [==============================] - 2s 106ms/step - loss: 1.7147 - accuracy: 0.3870 - val_loss: 1.7101 - val_accuracy: 0.3417\n",
            "Epoch 11/100\n",
            "17/17 [==============================] - 2s 107ms/step - loss: 1.6908 - accuracy: 0.4074 - val_loss: 1.6853 - val_accuracy: 0.4500\n",
            "Epoch 12/100\n",
            "17/17 [==============================] - 2s 112ms/step - loss: 1.6575 - accuracy: 0.4241 - val_loss: 1.6558 - val_accuracy: 0.4250\n",
            "Epoch 13/100\n",
            "17/17 [==============================] - 2s 112ms/step - loss: 1.6199 - accuracy: 0.4380 - val_loss: 1.6183 - val_accuracy: 0.4750\n",
            "Epoch 14/100\n",
            "17/17 [==============================] - 2s 106ms/step - loss: 1.5754 - accuracy: 0.4546 - val_loss: 1.5823 - val_accuracy: 0.4500\n",
            "Epoch 15/100\n",
            "17/17 [==============================] - 2s 107ms/step - loss: 1.5293 - accuracy: 0.4713 - val_loss: 1.5415 - val_accuracy: 0.4917\n",
            "Epoch 16/100\n",
            "17/17 [==============================] - 2s 106ms/step - loss: 1.4829 - accuracy: 0.4722 - val_loss: 1.4986 - val_accuracy: 0.4917\n",
            "Epoch 17/100\n",
            "17/17 [==============================] - 2s 107ms/step - loss: 1.4346 - accuracy: 0.4852 - val_loss: 1.4577 - val_accuracy: 0.4917\n",
            "Epoch 18/100\n",
            "17/17 [==============================] - 2s 106ms/step - loss: 1.3884 - accuracy: 0.5046 - val_loss: 1.4222 - val_accuracy: 0.4917\n",
            "Epoch 19/100\n",
            "17/17 [==============================] - 2s 106ms/step - loss: 1.3473 - accuracy: 0.5250 - val_loss: 1.3841 - val_accuracy: 0.5333\n",
            "Epoch 20/100\n",
            "17/17 [==============================] - 2s 107ms/step - loss: 1.3074 - accuracy: 0.5407 - val_loss: 1.3510 - val_accuracy: 0.5250\n",
            "Epoch 21/100\n",
            "17/17 [==============================] - 2s 112ms/step - loss: 1.2683 - accuracy: 0.5537 - val_loss: 1.3176 - val_accuracy: 0.5333\n",
            "Epoch 22/100\n",
            "17/17 [==============================] - 2s 107ms/step - loss: 1.2354 - accuracy: 0.5694 - val_loss: 1.2871 - val_accuracy: 0.5583\n",
            "Epoch 23/100\n",
            "17/17 [==============================] - 2s 106ms/step - loss: 1.2024 - accuracy: 0.5843 - val_loss: 1.2561 - val_accuracy: 0.5667\n",
            "Epoch 24/100\n",
            "17/17 [==============================] - 2s 111ms/step - loss: 1.1714 - accuracy: 0.5880 - val_loss: 1.2296 - val_accuracy: 0.5667\n",
            "Epoch 25/100\n",
            "17/17 [==============================] - 2s 106ms/step - loss: 1.1440 - accuracy: 0.5944 - val_loss: 1.1985 - val_accuracy: 0.6083\n",
            "Epoch 26/100\n",
            "17/17 [==============================] - 2s 107ms/step - loss: 1.1158 - accuracy: 0.6083 - val_loss: 1.1714 - val_accuracy: 0.6167\n",
            "Epoch 27/100\n",
            "17/17 [==============================] - 2s 106ms/step - loss: 1.0893 - accuracy: 0.6176 - val_loss: 1.1443 - val_accuracy: 0.6333\n",
            "Epoch 28/100\n",
            "17/17 [==============================] - 2s 102ms/step - loss: 1.0642 - accuracy: 0.6324 - val_loss: 1.1224 - val_accuracy: 0.6333\n",
            "Epoch 29/100\n",
            "17/17 [==============================] - 2s 106ms/step - loss: 1.0426 - accuracy: 0.6352 - val_loss: 1.1022 - val_accuracy: 0.6250\n",
            "Epoch 30/100\n",
            "17/17 [==============================] - 2s 106ms/step - loss: 1.0213 - accuracy: 0.6435 - val_loss: 1.0814 - val_accuracy: 0.6250\n",
            "Epoch 31/100\n",
            "17/17 [==============================] - 2s 106ms/step - loss: 1.0014 - accuracy: 0.6509 - val_loss: 1.0639 - val_accuracy: 0.6250\n",
            "Epoch 32/100\n",
            "17/17 [==============================] - 2s 100ms/step - loss: 0.9833 - accuracy: 0.6574 - val_loss: 1.0479 - val_accuracy: 0.6167\n",
            "Epoch 33/100\n",
            "17/17 [==============================] - 2s 100ms/step - loss: 0.9666 - accuracy: 0.6648 - val_loss: 1.0325 - val_accuracy: 0.6167\n",
            "Epoch 34/100\n",
            "17/17 [==============================] - 2s 106ms/step - loss: 0.9502 - accuracy: 0.6722 - val_loss: 1.0182 - val_accuracy: 0.6250\n",
            "Epoch 35/100\n",
            "17/17 [==============================] - 2s 106ms/step - loss: 0.9347 - accuracy: 0.6750 - val_loss: 1.0048 - val_accuracy: 0.6333\n",
            "Epoch 36/100\n",
            "17/17 [==============================] - 2s 106ms/step - loss: 0.9208 - accuracy: 0.6806 - val_loss: 0.9922 - val_accuracy: 0.6250\n",
            "Epoch 37/100\n",
            "17/17 [==============================] - 2s 106ms/step - loss: 0.9061 - accuracy: 0.6861 - val_loss: 0.9789 - val_accuracy: 0.6250\n",
            "Epoch 38/100\n",
            "17/17 [==============================] - 2s 105ms/step - loss: 0.8936 - accuracy: 0.6898 - val_loss: 0.9683 - val_accuracy: 0.6333\n",
            "Epoch 39/100\n",
            "17/17 [==============================] - 2s 106ms/step - loss: 0.8802 - accuracy: 0.6944 - val_loss: 0.9560 - val_accuracy: 0.6500\n",
            "Epoch 40/100\n",
            "17/17 [==============================] - 2s 101ms/step - loss: 0.8683 - accuracy: 0.7009 - val_loss: 0.9457 - val_accuracy: 0.6500\n",
            "Epoch 41/100\n",
            "17/17 [==============================] - 2s 106ms/step - loss: 0.8566 - accuracy: 0.7028 - val_loss: 0.9349 - val_accuracy: 0.6583\n",
            "Epoch 42/100\n",
            "17/17 [==============================] - 2s 106ms/step - loss: 0.8452 - accuracy: 0.7074 - val_loss: 0.9246 - val_accuracy: 0.6667\n",
            "Epoch 43/100\n",
            "17/17 [==============================] - 2s 106ms/step - loss: 0.8341 - accuracy: 0.7130 - val_loss: 0.9148 - val_accuracy: 0.6667\n",
            "Epoch 44/100\n",
            "17/17 [==============================] - 2s 106ms/step - loss: 0.8238 - accuracy: 0.7222 - val_loss: 0.9056 - val_accuracy: 0.6583\n",
            "Epoch 45/100\n",
            "17/17 [==============================] - 2s 106ms/step - loss: 0.8138 - accuracy: 0.7222 - val_loss: 0.8964 - val_accuracy: 0.6583\n",
            "Epoch 46/100\n",
            "17/17 [==============================] - 2s 106ms/step - loss: 0.8044 - accuracy: 0.7250 - val_loss: 0.8884 - val_accuracy: 0.6583\n",
            "Epoch 47/100\n",
            "17/17 [==============================] - 2s 106ms/step - loss: 0.7944 - accuracy: 0.7269 - val_loss: 0.8794 - val_accuracy: 0.6667\n",
            "Epoch 48/100\n",
            "17/17 [==============================] - 2s 106ms/step - loss: 0.7856 - accuracy: 0.7306 - val_loss: 0.8708 - val_accuracy: 0.6667\n",
            "Epoch 49/100\n",
            "17/17 [==============================] - 2s 101ms/step - loss: 0.7762 - accuracy: 0.7333 - val_loss: 0.8624 - val_accuracy: 0.6833\n",
            "Epoch 50/100\n",
            "17/17 [==============================] - 2s 106ms/step - loss: 0.7673 - accuracy: 0.7361 - val_loss: 0.8543 - val_accuracy: 0.6833\n",
            "Epoch 51/100\n",
            "17/17 [==============================] - 2s 106ms/step - loss: 0.7586 - accuracy: 0.7398 - val_loss: 0.8464 - val_accuracy: 0.6750\n",
            "Epoch 52/100\n",
            "17/17 [==============================] - 2s 106ms/step - loss: 0.7502 - accuracy: 0.7472 - val_loss: 0.8387 - val_accuracy: 0.6833\n",
            "Epoch 53/100\n",
            "17/17 [==============================] - 2s 100ms/step - loss: 0.7417 - accuracy: 0.7509 - val_loss: 0.8311 - val_accuracy: 0.6833\n",
            "Epoch 54/100\n",
            "17/17 [==============================] - 2s 111ms/step - loss: 0.7333 - accuracy: 0.7519 - val_loss: 0.8240 - val_accuracy: 0.6833\n",
            "Epoch 55/100\n",
            "17/17 [==============================] - 2s 106ms/step - loss: 0.7252 - accuracy: 0.7528 - val_loss: 0.8174 - val_accuracy: 0.6917\n",
            "Epoch 56/100\n",
            "17/17 [==============================] - 2s 101ms/step - loss: 0.7176 - accuracy: 0.7574 - val_loss: 0.8110 - val_accuracy: 0.6833\n",
            "Epoch 57/100\n",
            "17/17 [==============================] - 2s 101ms/step - loss: 0.7099 - accuracy: 0.7602 - val_loss: 0.8049 - val_accuracy: 0.6833\n",
            "Epoch 58/100\n",
            "17/17 [==============================] - 2s 100ms/step - loss: 0.7021 - accuracy: 0.7620 - val_loss: 0.7982 - val_accuracy: 0.6833\n",
            "Epoch 59/100\n",
            "17/17 [==============================] - 2s 101ms/step - loss: 0.6950 - accuracy: 0.7676 - val_loss: 0.7927 - val_accuracy: 0.6750\n",
            "Epoch 60/100\n",
            "17/17 [==============================] - 2s 101ms/step - loss: 0.6875 - accuracy: 0.7750 - val_loss: 0.7863 - val_accuracy: 0.6833\n",
            "Epoch 61/100\n",
            "17/17 [==============================] - 2s 106ms/step - loss: 0.6806 - accuracy: 0.7769 - val_loss: 0.7804 - val_accuracy: 0.6833\n",
            "Epoch 62/100\n",
            "17/17 [==============================] - 2s 106ms/step - loss: 0.6736 - accuracy: 0.7778 - val_loss: 0.7746 - val_accuracy: 0.6917\n",
            "Epoch 63/100\n",
            "17/17 [==============================] - 2s 106ms/step - loss: 0.6665 - accuracy: 0.7824 - val_loss: 0.7689 - val_accuracy: 0.6917\n",
            "Epoch 64/100\n",
            "17/17 [==============================] - 2s 100ms/step - loss: 0.6601 - accuracy: 0.7870 - val_loss: 0.7636 - val_accuracy: 0.7000\n",
            "Epoch 65/100\n",
            "17/17 [==============================] - 2s 100ms/step - loss: 0.6536 - accuracy: 0.7926 - val_loss: 0.7579 - val_accuracy: 0.6917\n",
            "Epoch 66/100\n",
            "17/17 [==============================] - 2s 106ms/step - loss: 0.6471 - accuracy: 0.7926 - val_loss: 0.7531 - val_accuracy: 0.7083\n",
            "Epoch 67/100\n",
            "17/17 [==============================] - 2s 106ms/step - loss: 0.6407 - accuracy: 0.7954 - val_loss: 0.7480 - val_accuracy: 0.7000\n",
            "Epoch 68/100\n",
            "17/17 [==============================] - 2s 106ms/step - loss: 0.6344 - accuracy: 0.7991 - val_loss: 0.7440 - val_accuracy: 0.7083\n",
            "Epoch 69/100\n",
            "17/17 [==============================] - 2s 100ms/step - loss: 0.6282 - accuracy: 0.8000 - val_loss: 0.7387 - val_accuracy: 0.7083\n",
            "Epoch 70/100\n",
            "17/17 [==============================] - 2s 101ms/step - loss: 0.6222 - accuracy: 0.8019 - val_loss: 0.7346 - val_accuracy: 0.7083\n",
            "Epoch 71/100\n",
            "17/17 [==============================] - 2s 106ms/step - loss: 0.6163 - accuracy: 0.8019 - val_loss: 0.7294 - val_accuracy: 0.7167\n",
            "Epoch 72/100\n",
            "17/17 [==============================] - 2s 106ms/step - loss: 0.6105 - accuracy: 0.8046 - val_loss: 0.7256 - val_accuracy: 0.7250\n",
            "Epoch 73/100\n",
            "17/17 [==============================] - 2s 105ms/step - loss: 0.6045 - accuracy: 0.8056 - val_loss: 0.7212 - val_accuracy: 0.7250\n",
            "Epoch 74/100\n",
            "17/17 [==============================] - 2s 106ms/step - loss: 0.5990 - accuracy: 0.8074 - val_loss: 0.7167 - val_accuracy: 0.7250\n",
            "Epoch 75/100\n",
            "17/17 [==============================] - 2s 106ms/step - loss: 0.5944 - accuracy: 0.8111 - val_loss: 0.7121 - val_accuracy: 0.7250\n",
            "Epoch 76/100\n",
            "17/17 [==============================] - 2s 106ms/step - loss: 0.5885 - accuracy: 0.8102 - val_loss: 0.7085 - val_accuracy: 0.7250\n",
            "Epoch 77/100\n",
            "17/17 [==============================] - 2s 106ms/step - loss: 0.5842 - accuracy: 0.8111 - val_loss: 0.7032 - val_accuracy: 0.7250\n",
            "Epoch 78/100\n",
            "17/17 [==============================] - 2s 106ms/step - loss: 0.5787 - accuracy: 0.8139 - val_loss: 0.7005 - val_accuracy: 0.7250\n",
            "Epoch 79/100\n",
            "17/17 [==============================] - 2s 106ms/step - loss: 0.5738 - accuracy: 0.8148 - val_loss: 0.6954 - val_accuracy: 0.7250\n",
            "Epoch 80/100\n",
            "17/17 [==============================] - 2s 100ms/step - loss: 0.5685 - accuracy: 0.8167 - val_loss: 0.6939 - val_accuracy: 0.7250\n",
            "Epoch 81/100\n",
            "17/17 [==============================] - 2s 106ms/step - loss: 0.5644 - accuracy: 0.8157 - val_loss: 0.6879 - val_accuracy: 0.7333\n",
            "Epoch 82/100\n",
            "17/17 [==============================] - 2s 105ms/step - loss: 0.5591 - accuracy: 0.8204 - val_loss: 0.6849 - val_accuracy: 0.7250\n",
            "Epoch 83/100\n",
            "17/17 [==============================] - 2s 106ms/step - loss: 0.5543 - accuracy: 0.8213 - val_loss: 0.6827 - val_accuracy: 0.7333\n",
            "Epoch 84/100\n",
            "17/17 [==============================] - 2s 106ms/step - loss: 0.5498 - accuracy: 0.8204 - val_loss: 0.6763 - val_accuracy: 0.7333\n",
            "Epoch 85/100\n",
            "17/17 [==============================] - 2s 106ms/step - loss: 0.5453 - accuracy: 0.8213 - val_loss: 0.6754 - val_accuracy: 0.7333\n",
            "Epoch 86/100\n",
            "17/17 [==============================] - 2s 101ms/step - loss: 0.5409 - accuracy: 0.8222 - val_loss: 0.6694 - val_accuracy: 0.7333\n",
            "Epoch 87/100\n",
            "17/17 [==============================] - 2s 106ms/step - loss: 0.5368 - accuracy: 0.8259 - val_loss: 0.6680 - val_accuracy: 0.7417\n",
            "Epoch 88/100\n",
            "17/17 [==============================] - 2s 106ms/step - loss: 0.5324 - accuracy: 0.8250 - val_loss: 0.6628 - val_accuracy: 0.7417\n",
            "Epoch 89/100\n",
            "17/17 [==============================] - 2s 101ms/step - loss: 0.5283 - accuracy: 0.8306 - val_loss: 0.6626 - val_accuracy: 0.7417\n",
            "Epoch 90/100\n",
            "17/17 [==============================] - 2s 106ms/step - loss: 0.5250 - accuracy: 0.8259 - val_loss: 0.6565 - val_accuracy: 0.7417\n",
            "Epoch 91/100\n",
            "17/17 [==============================] - 2s 106ms/step - loss: 0.5205 - accuracy: 0.8324 - val_loss: 0.6551 - val_accuracy: 0.7500\n",
            "Epoch 92/100\n",
            "17/17 [==============================] - 2s 106ms/step - loss: 0.5163 - accuracy: 0.8343 - val_loss: 0.6507 - val_accuracy: 0.7500\n",
            "Epoch 93/100\n",
            "17/17 [==============================] - 2s 100ms/step - loss: 0.5123 - accuracy: 0.8370 - val_loss: 0.6496 - val_accuracy: 0.7667\n",
            "Epoch 94/100\n",
            "17/17 [==============================] - 2s 101ms/step - loss: 0.5088 - accuracy: 0.8380 - val_loss: 0.6439 - val_accuracy: 0.7750\n",
            "Epoch 95/100\n",
            "17/17 [==============================] - 2s 106ms/step - loss: 0.5048 - accuracy: 0.8389 - val_loss: 0.6439 - val_accuracy: 0.7667\n",
            "Epoch 96/100\n",
            "17/17 [==============================] - 2s 106ms/step - loss: 0.5012 - accuracy: 0.8389 - val_loss: 0.6370 - val_accuracy: 0.7750\n",
            "Epoch 97/100\n",
            "17/17 [==============================] - 2s 106ms/step - loss: 0.4977 - accuracy: 0.8398 - val_loss: 0.6368 - val_accuracy: 0.7667\n",
            "Epoch 98/100\n",
            "17/17 [==============================] - 2s 106ms/step - loss: 0.4939 - accuracy: 0.8389 - val_loss: 0.6312 - val_accuracy: 0.7750\n",
            "Epoch 99/100\n",
            "17/17 [==============================] - 2s 106ms/step - loss: 0.4902 - accuracy: 0.8407 - val_loss: 0.6321 - val_accuracy: 0.7667\n",
            "Epoch 100/100\n",
            "17/17 [==============================] - 2s 106ms/step - loss: 0.4870 - accuracy: 0.8407 - val_loss: 0.6255 - val_accuracy: 0.7833\n"
          ],
          "name": "stdout"
        }
      ]
    },
    {
      "cell_type": "markdown",
      "metadata": {
        "id": "hKeNpqi8sDlD"
      },
      "source": [
        "<a name='5'></a>\n",
        "## 5 - History Object \n",
        "\n",
        "The history object is an output of the `.fit()` operation, and provides a record of all the loss and metric values in memory. It's stored as a dictionary that you can retrieve at `history.history`: "
      ]
    },
    {
      "cell_type": "code",
      "metadata": {
        "id": "oZQZaGrssDlD",
        "outputId": "a4f0559e-d4ba-46bf-9440-886418f30924"
      },
      "source": [
        "history.history"
      ],
      "execution_count": null,
      "outputs": [
        {
          "output_type": "execute_result",
          "data": {
            "text/plain": [
              "{'loss': [1.8035542964935303,\n",
              "  1.7893142700195312,\n",
              "  1.7851766347885132,\n",
              "  1.7809836864471436,\n",
              "  1.7765607833862305,\n",
              "  1.7708250284194946,\n",
              "  1.7629843950271606,\n",
              "  1.7515597343444824,\n",
              "  1.7355310916900635,\n",
              "  1.7147064208984375,\n",
              "  1.6907769441604614,\n",
              "  1.6574798822402954,\n",
              "  1.6198636293411255,\n",
              "  1.5753828287124634,\n",
              "  1.5292818546295166,\n",
              "  1.482940912246704,\n",
              "  1.434578776359558,\n",
              "  1.3884128332138062,\n",
              "  1.3472764492034912,\n",
              "  1.3073651790618896,\n",
              "  1.2683130502700806,\n",
              "  1.235383152961731,\n",
              "  1.202367901802063,\n",
              "  1.1714202165603638,\n",
              "  1.1439787149429321,\n",
              "  1.1157814264297485,\n",
              "  1.0892654657363892,\n",
              "  1.0641849040985107,\n",
              "  1.0425556898117065,\n",
              "  1.0212852954864502,\n",
              "  1.0013879537582397,\n",
              "  0.9833013415336609,\n",
              "  0.9665777087211609,\n",
              "  0.9501563310623169,\n",
              "  0.9347332715988159,\n",
              "  0.9207858443260193,\n",
              "  0.9060878753662109,\n",
              "  0.893566370010376,\n",
              "  0.8801879286766052,\n",
              "  0.8683061599731445,\n",
              "  0.8565990328788757,\n",
              "  0.8451693058013916,\n",
              "  0.8340543508529663,\n",
              "  0.823762059211731,\n",
              "  0.8138303756713867,\n",
              "  0.804362416267395,\n",
              "  0.7943915724754333,\n",
              "  0.7855580449104309,\n",
              "  0.7761519551277161,\n",
              "  0.7672514915466309,\n",
              "  0.7586414217948914,\n",
              "  0.7501584887504578,\n",
              "  0.7416913509368896,\n",
              "  0.7332697510719299,\n",
              "  0.7251827716827393,\n",
              "  0.71756511926651,\n",
              "  0.709935188293457,\n",
              "  0.7021499276161194,\n",
              "  0.6950263977050781,\n",
              "  0.6875088214874268,\n",
              "  0.6806110739707947,\n",
              "  0.6735969185829163,\n",
              "  0.6664825677871704,\n",
              "  0.6601169109344482,\n",
              "  0.6536474227905273,\n",
              "  0.6471234560012817,\n",
              "  0.640663743019104,\n",
              "  0.6343891024589539,\n",
              "  0.6281997561454773,\n",
              "  0.6221824288368225,\n",
              "  0.6162565350532532,\n",
              "  0.6104638576507568,\n",
              "  0.6044819951057434,\n",
              "  0.5990445017814636,\n",
              "  0.5943950414657593,\n",
              "  0.5885365009307861,\n",
              "  0.5842221975326538,\n",
              "  0.5786903500556946,\n",
              "  0.5737610459327698,\n",
              "  0.5684992074966431,\n",
              "  0.5644364953041077,\n",
              "  0.559070348739624,\n",
              "  0.5542972683906555,\n",
              "  0.5497782826423645,\n",
              "  0.5453225374221802,\n",
              "  0.5408757328987122,\n",
              "  0.5368411540985107,\n",
              "  0.5323566794395447,\n",
              "  0.5282979011535645,\n",
              "  0.5249550938606262,\n",
              "  0.5205033421516418,\n",
              "  0.5163249373435974,\n",
              "  0.5123496055603027,\n",
              "  0.5088067054748535,\n",
              "  0.5048006176948547,\n",
              "  0.5012316107749939,\n",
              "  0.4977205693721771,\n",
              "  0.49394169449806213,\n",
              "  0.49019911885261536,\n",
              "  0.4869995713233948],\n",
              " 'accuracy': [0.15833333134651184,\n",
              "  0.17037037014961243,\n",
              "  0.18425926566123962,\n",
              "  0.2092592567205429,\n",
              "  0.1953703761100769,\n",
              "  0.22962963581085205,\n",
              "  0.25648146867752075,\n",
              "  0.3092592656612396,\n",
              "  0.32592591643333435,\n",
              "  0.3870370388031006,\n",
              "  0.40740740299224854,\n",
              "  0.42407408356666565,\n",
              "  0.43796294927597046,\n",
              "  0.4546296298503876,\n",
              "  0.4712963104248047,\n",
              "  0.4722222089767456,\n",
              "  0.4851851761341095,\n",
              "  0.5046296119689941,\n",
              "  0.5249999761581421,\n",
              "  0.5407407283782959,\n",
              "  0.5537037253379822,\n",
              "  0.5694444179534912,\n",
              "  0.5842592716217041,\n",
              "  0.5879629850387573,\n",
              "  0.5944444537162781,\n",
              "  0.6083333492279053,\n",
              "  0.6175925731658936,\n",
              "  0.6324074268341064,\n",
              "  0.635185182094574,\n",
              "  0.6435185074806213,\n",
              "  0.6509259343147278,\n",
              "  0.6574074029922485,\n",
              "  0.664814829826355,\n",
              "  0.6722221970558167,\n",
              "  0.675000011920929,\n",
              "  0.6805555820465088,\n",
              "  0.6861110925674438,\n",
              "  0.6898148059844971,\n",
              "  0.6944444179534912,\n",
              "  0.7009259462356567,\n",
              "  0.7027778029441833,\n",
              "  0.7074074149131775,\n",
              "  0.7129629850387573,\n",
              "  0.7222222089767456,\n",
              "  0.7222222089767456,\n",
              "  0.7250000238418579,\n",
              "  0.7268518805503845,\n",
              "  0.730555534362793,\n",
              "  0.7333333492279053,\n",
              "  0.7361111044883728,\n",
              "  0.739814817905426,\n",
              "  0.7472222447395325,\n",
              "  0.7509258985519409,\n",
              "  0.7518518567085266,\n",
              "  0.7527777552604675,\n",
              "  0.7574074268341064,\n",
              "  0.760185182094574,\n",
              "  0.7620370388031006,\n",
              "  0.7675926089286804,\n",
              "  0.7749999761581421,\n",
              "  0.7768518328666687,\n",
              "  0.7777777910232544,\n",
              "  0.7824074029922485,\n",
              "  0.7870370149612427,\n",
              "  0.7925925850868225,\n",
              "  0.7925925850868225,\n",
              "  0.7953703999519348,\n",
              "  0.7990740537643433,\n",
              "  0.800000011920929,\n",
              "  0.8018518686294556,\n",
              "  0.8018518686294556,\n",
              "  0.8046296238899231,\n",
              "  0.8055555820465088,\n",
              "  0.8074073791503906,\n",
              "  0.8111110925674438,\n",
              "  0.8101851940155029,\n",
              "  0.8111110925674438,\n",
              "  0.8138889074325562,\n",
              "  0.8148148059844971,\n",
              "  0.8166666626930237,\n",
              "  0.8157407641410828,\n",
              "  0.8203703761100769,\n",
              "  0.8212962746620178,\n",
              "  0.8203703761100769,\n",
              "  0.8212962746620178,\n",
              "  0.8222222328186035,\n",
              "  0.8259259462356567,\n",
              "  0.824999988079071,\n",
              "  0.8305555582046509,\n",
              "  0.8259259462356567,\n",
              "  0.8324074149131775,\n",
              "  0.8342592716217041,\n",
              "  0.8370370268821716,\n",
              "  0.8379629850387573,\n",
              "  0.8388888835906982,\n",
              "  0.8388888835906982,\n",
              "  0.8398148417472839,\n",
              "  0.8388888835906982,\n",
              "  0.8407407402992249,\n",
              "  0.8407407402992249],\n",
              " 'val_loss': [1.7904973030090332,\n",
              "  1.784317135810852,\n",
              "  1.7805027961730957,\n",
              "  1.7764443159103394,\n",
              "  1.771490454673767,\n",
              "  1.7646747827529907,\n",
              "  1.7542403936386108,\n",
              "  1.7414970397949219,\n",
              "  1.7253178358078003,\n",
              "  1.7100626230239868,\n",
              "  1.685302972793579,\n",
              "  1.6558085680007935,\n",
              "  1.6183092594146729,\n",
              "  1.5823103189468384,\n",
              "  1.5414869785308838,\n",
              "  1.4985573291778564,\n",
              "  1.4577165842056274,\n",
              "  1.4221723079681396,\n",
              "  1.384057879447937,\n",
              "  1.3509576320648193,\n",
              "  1.3176085948944092,\n",
              "  1.2871203422546387,\n",
              "  1.2560851573944092,\n",
              "  1.2295809984207153,\n",
              "  1.1985310316085815,\n",
              "  1.171429991722107,\n",
              "  1.1442792415618896,\n",
              "  1.1223578453063965,\n",
              "  1.1022099256515503,\n",
              "  1.0814484357833862,\n",
              "  1.0639212131500244,\n",
              "  1.0479469299316406,\n",
              "  1.032490611076355,\n",
              "  1.0181573629379272,\n",
              "  1.0047985315322876,\n",
              "  0.9921639561653137,\n",
              "  0.9789329171180725,\n",
              "  0.968313992023468,\n",
              "  0.9559599757194519,\n",
              "  0.9456742405891418,\n",
              "  0.9348990321159363,\n",
              "  0.9245818853378296,\n",
              "  0.9148269891738892,\n",
              "  0.905639111995697,\n",
              "  0.8963882327079773,\n",
              "  0.8883680105209351,\n",
              "  0.8794313669204712,\n",
              "  0.8708414435386658,\n",
              "  0.8623596429824829,\n",
              "  0.8543093204498291,\n",
              "  0.8463508486747742,\n",
              "  0.838672399520874,\n",
              "  0.831095278263092,\n",
              "  0.8239800333976746,\n",
              "  0.8173787593841553,\n",
              "  0.8110350370407104,\n",
              "  0.8048905730247498,\n",
              "  0.798238217830658,\n",
              "  0.792711079120636,\n",
              "  0.7863487005233765,\n",
              "  0.7804353833198547,\n",
              "  0.7746263742446899,\n",
              "  0.7689077258110046,\n",
              "  0.7636487483978271,\n",
              "  0.7579297423362732,\n",
              "  0.7530784606933594,\n",
              "  0.7479509711265564,\n",
              "  0.7440016269683838,\n",
              "  0.7386683225631714,\n",
              "  0.7346243262290955,\n",
              "  0.7294198274612427,\n",
              "  0.7255620360374451,\n",
              "  0.721159815788269,\n",
              "  0.7167360782623291,\n",
              "  0.7121228575706482,\n",
              "  0.7084773778915405,\n",
              "  0.7032424211502075,\n",
              "  0.7004909515380859,\n",
              "  0.6954484581947327,\n",
              "  0.6938823461532593,\n",
              "  0.6878672242164612,\n",
              "  0.6848793029785156,\n",
              "  0.6827421188354492,\n",
              "  0.6763046383857727,\n",
              "  0.6753820776939392,\n",
              "  0.6693745255470276,\n",
              "  0.6680082678794861,\n",
              "  0.6628282070159912,\n",
              "  0.6626131534576416,\n",
              "  0.6565029621124268,\n",
              "  0.6550830602645874,\n",
              "  0.6506623029708862,\n",
              "  0.6495885252952576,\n",
              "  0.6438674926757812,\n",
              "  0.643910825252533,\n",
              "  0.6370426416397095,\n",
              "  0.6368270516395569,\n",
              "  0.6312366127967834,\n",
              "  0.6321003437042236,\n",
              "  0.625461220741272],\n",
              " 'val_accuracy': [0.18333333730697632,\n",
              "  0.1666666716337204,\n",
              "  0.22499999403953552,\n",
              "  0.22499999403953552,\n",
              "  0.23333333432674408,\n",
              "  0.28333333134651184,\n",
              "  0.3499999940395355,\n",
              "  0.3583333194255829,\n",
              "  0.40833333134651184,\n",
              "  0.34166666865348816,\n",
              "  0.44999998807907104,\n",
              "  0.42500001192092896,\n",
              "  0.4749999940395355,\n",
              "  0.44999998807907104,\n",
              "  0.49166667461395264,\n",
              "  0.49166667461395264,\n",
              "  0.49166667461395264,\n",
              "  0.49166667461395264,\n",
              "  0.5333333611488342,\n",
              "  0.5249999761581421,\n",
              "  0.5333333611488342,\n",
              "  0.5583333373069763,\n",
              "  0.5666666626930237,\n",
              "  0.5666666626930237,\n",
              "  0.6083333492279053,\n",
              "  0.6166666746139526,\n",
              "  0.6333333253860474,\n",
              "  0.6333333253860474,\n",
              "  0.625,\n",
              "  0.625,\n",
              "  0.625,\n",
              "  0.6166666746139526,\n",
              "  0.6166666746139526,\n",
              "  0.625,\n",
              "  0.6333333253860474,\n",
              "  0.625,\n",
              "  0.625,\n",
              "  0.6333333253860474,\n",
              "  0.6499999761581421,\n",
              "  0.6499999761581421,\n",
              "  0.6583333611488342,\n",
              "  0.6666666865348816,\n",
              "  0.6666666865348816,\n",
              "  0.6583333611488342,\n",
              "  0.6583333611488342,\n",
              "  0.6583333611488342,\n",
              "  0.6666666865348816,\n",
              "  0.6666666865348816,\n",
              "  0.6833333373069763,\n",
              "  0.6833333373069763,\n",
              "  0.675000011920929,\n",
              "  0.6833333373069763,\n",
              "  0.6833333373069763,\n",
              "  0.6833333373069763,\n",
              "  0.6916666626930237,\n",
              "  0.6833333373069763,\n",
              "  0.6833333373069763,\n",
              "  0.6833333373069763,\n",
              "  0.675000011920929,\n",
              "  0.6833333373069763,\n",
              "  0.6833333373069763,\n",
              "  0.6916666626930237,\n",
              "  0.6916666626930237,\n",
              "  0.699999988079071,\n",
              "  0.6916666626930237,\n",
              "  0.7083333134651184,\n",
              "  0.699999988079071,\n",
              "  0.7083333134651184,\n",
              "  0.7083333134651184,\n",
              "  0.7083333134651184,\n",
              "  0.7166666388511658,\n",
              "  0.7250000238418579,\n",
              "  0.7250000238418579,\n",
              "  0.7250000238418579,\n",
              "  0.7250000238418579,\n",
              "  0.7250000238418579,\n",
              "  0.7250000238418579,\n",
              "  0.7250000238418579,\n",
              "  0.7250000238418579,\n",
              "  0.7250000238418579,\n",
              "  0.7333333492279053,\n",
              "  0.7250000238418579,\n",
              "  0.7333333492279053,\n",
              "  0.7333333492279053,\n",
              "  0.7333333492279053,\n",
              "  0.7333333492279053,\n",
              "  0.7416666746139526,\n",
              "  0.7416666746139526,\n",
              "  0.7416666746139526,\n",
              "  0.7416666746139526,\n",
              "  0.75,\n",
              "  0.75,\n",
              "  0.7666666507720947,\n",
              "  0.7749999761581421,\n",
              "  0.7666666507720947,\n",
              "  0.7749999761581421,\n",
              "  0.7666666507720947,\n",
              "  0.7749999761581421,\n",
              "  0.7666666507720947,\n",
              "  0.7833333611488342]}"
            ]
          },
          "metadata": {
            "tags": []
          },
          "execution_count": 95
        }
      ]
    },
    {
      "cell_type": "markdown",
      "metadata": {
        "id": "VrRJ7vXdsDlE"
      },
      "source": [
        "Now visualize the loss over time using `history.history`: "
      ]
    },
    {
      "cell_type": "code",
      "metadata": {
        "id": "GEJLbfyQsDlF",
        "outputId": "24d72833-0691-4e45-ccd8-281a5bbfa8ea"
      },
      "source": [
        "# The history.history[\"loss\"] entry is a dictionary with as many values as epochs that the\n",
        "# model was trained on. \n",
        "df_loss_acc = pd.DataFrame(history.history)\n",
        "df_loss= df_loss_acc[['loss','val_loss']]\n",
        "df_loss.rename(columns={'loss':'train','val_loss':'validation'},inplace=True)\n",
        "df_acc= df_loss_acc[['accuracy','val_accuracy']]\n",
        "df_acc.rename(columns={'accuracy':'train','val_accuracy':'validation'},inplace=True)\n",
        "df_loss.plot(title='Model loss',figsize=(12,8)).set(xlabel='Epoch',ylabel='Loss')\n",
        "df_acc.plot(title='Model Accuracy',figsize=(12,8)).set(xlabel='Epoch',ylabel='Accuracy')"
      ],
      "execution_count": null,
      "outputs": [
        {
          "output_type": "execute_result",
          "data": {
            "text/plain": [
              "[Text(0, 0.5, 'Accuracy'), Text(0.5, 0, 'Epoch')]"
            ]
          },
          "metadata": {
            "tags": []
          },
          "execution_count": 96
        },
        {
          "output_type": "display_data",
          "data": {
            "image/png": "[encoded data removed]",
            "text/plain": [
              "<Figure size 864x576 with 1 Axes>"
            ]
          },
          "metadata": {
            "tags": [],
            "needs_background": "light"
          }
        },
        {
          "output_type": "display_data",
          "data": {
            "image/png": "[encoded data removed]",
            "text/plain": [
              "<Figure size 864x576 with 1 Axes>"
            ]
          },
          "metadata": {
            "tags": [],
            "needs_background": "light"
          }
        }
      ]
    },
    {
      "cell_type": "markdown",
      "metadata": {
        "id": "KEdTCy4qsDlF"
      },
      "source": [
        "**Congratulations**! You've finished the assignment and built two models: One that recognizes  smiles, and another that recognizes SIGN language with almost 80% accuracy on the test set. In addition to that, you now also understand the applications of two Keras APIs: Sequential and Functional. Nicely done! \n",
        "\n",
        "By now, you know a bit about how the Functional API works and may have glimpsed the possibilities. In your next assignment, you'll really get a feel for its power when you get the opportunity to build a very deep ConvNet, using ResNets! "
      ]
    },
    {
      "cell_type": "markdown",
      "metadata": {
        "id": "JBLL-mqEsDlG"
      },
      "source": [
        "<a name='6'></a>\n",
        "## 6 - Bibliography\n",
        "\n",
        "You're always encouraged to read the official documentation. To that end, you can find the docs for the Sequential and Functional APIs here: \n",
        "\n",
        "https://www.tensorflow.org/guide/keras/sequential_model\n",
        "\n",
        "https://www.tensorflow.org/guide/keras/functional"
      ]
    }
  ]
}